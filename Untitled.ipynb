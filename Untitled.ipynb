{
 "cells": [
  {
   "cell_type": "code",
   "execution_count": 1,
   "id": "prostate-crown",
   "metadata": {},
   "outputs": [],
   "source": [
    "import numpy as np\n",
    "import pandas as pd\n",
    "import matplotlib.pyplot as plt\n",
    "\n",
    "from sklearn.preprocessing import LabelEncoder\n",
    "from sklearn.preprocessing import MinMaxScaler\n",
    "from sklearn.model_selection import train_test_split\n",
    "\n",
    "import tensorflow as tf"
   ]
  },
  {
   "cell_type": "code",
   "execution_count": 2,
   "id": "prime-austria",
   "metadata": {},
   "outputs": [],
   "source": [
    "data = pd.read_csv('income.csv')"
   ]
  },
  {
   "cell_type": "code",
   "execution_count": 3,
   "id": "planned-valley",
   "metadata": {},
   "outputs": [],
   "source": [
    "categorical_features = ['workclass', 'marital.status', 'occupation', 'relationship', 'race', 'sex', 'native.country']"
   ]
  },
  {
   "cell_type": "code",
   "execution_count": 4,
   "id": "violent-diagnosis",
   "metadata": {},
   "outputs": [],
   "source": [
    "def get_uniques(df, columns):\n",
    "    uniques = dict()\n",
    "    for column in columns:\n",
    "        uniques[column] = list(df[column].unique())\n",
    "    return uniques"
   ]
  },
  {
   "cell_type": "code",
   "execution_count": 5,
   "id": "adverse-alpha",
   "metadata": {},
   "outputs": [
    {
     "data": {
      "text/plain": [
       "{'workclass': ['?',\n",
       "  'Private',\n",
       "  'State-gov',\n",
       "  'Federal-gov',\n",
       "  'Self-emp-not-inc',\n",
       "  'Self-emp-inc',\n",
       "  'Local-gov',\n",
       "  'Without-pay',\n",
       "  'Never-worked'],\n",
       " 'marital.status': ['Widowed',\n",
       "  'Divorced',\n",
       "  'Separated',\n",
       "  'Never-married',\n",
       "  'Married-civ-spouse',\n",
       "  'Married-spouse-absent',\n",
       "  'Married-AF-spouse'],\n",
       " 'occupation': ['?',\n",
       "  'Exec-managerial',\n",
       "  'Machine-op-inspct',\n",
       "  'Prof-specialty',\n",
       "  'Other-service',\n",
       "  'Adm-clerical',\n",
       "  'Craft-repair',\n",
       "  'Transport-moving',\n",
       "  'Handlers-cleaners',\n",
       "  'Sales',\n",
       "  'Farming-fishing',\n",
       "  'Tech-support',\n",
       "  'Protective-serv',\n",
       "  'Armed-Forces',\n",
       "  'Priv-house-serv'],\n",
       " 'relationship': ['Not-in-family',\n",
       "  'Unmarried',\n",
       "  'Own-child',\n",
       "  'Other-relative',\n",
       "  'Husband',\n",
       "  'Wife'],\n",
       " 'race': ['White',\n",
       "  'Black',\n",
       "  'Asian-Pac-Islander',\n",
       "  'Other',\n",
       "  'Amer-Indian-Eskimo'],\n",
       " 'sex': ['Female', 'Male'],\n",
       " 'native.country': ['United-States',\n",
       "  '?',\n",
       "  'Mexico',\n",
       "  'Greece',\n",
       "  'Vietnam',\n",
       "  'China',\n",
       "  'Taiwan',\n",
       "  'India',\n",
       "  'Philippines',\n",
       "  'Trinadad&Tobago',\n",
       "  'Canada',\n",
       "  'South',\n",
       "  'Holand-Netherlands',\n",
       "  'Puerto-Rico',\n",
       "  'Poland',\n",
       "  'Iran',\n",
       "  'England',\n",
       "  'Germany',\n",
       "  'Italy',\n",
       "  'Japan',\n",
       "  'Hong',\n",
       "  'Honduras',\n",
       "  'Cuba',\n",
       "  'Ireland',\n",
       "  'Cambodia',\n",
       "  'Peru',\n",
       "  'Nicaragua',\n",
       "  'Dominican-Republic',\n",
       "  'Haiti',\n",
       "  'El-Salvador',\n",
       "  'Hungary',\n",
       "  'Columbia',\n",
       "  'Guatemala',\n",
       "  'Jamaica',\n",
       "  'Ecuador',\n",
       "  'France',\n",
       "  'Yugoslavia',\n",
       "  'Scotland',\n",
       "  'Portugal',\n",
       "  'Laos',\n",
       "  'Thailand',\n",
       "  'Outlying-US(Guam-USVI-etc)']}"
      ]
     },
     "execution_count": 5,
     "metadata": {},
     "output_type": "execute_result"
    }
   ],
   "source": [
    "get_uniques(data, categorical_features)"
   ]
  },
  {
   "cell_type": "code",
   "execution_count": 6,
   "id": "taken-ivory",
   "metadata": {},
   "outputs": [],
   "source": [
    "binary_features = ['sex']\n",
    "\n",
    "nominal_features = ['workclass', 'marital.status', 'occupation', 'relationship', 'race', 'native.country']"
   ]
  },
  {
   "cell_type": "code",
   "execution_count": 7,
   "id": "remarkable-audit",
   "metadata": {},
   "outputs": [],
   "source": [
    "def binary_encode(df, columns):\n",
    "    label_encoder = LabelEncoder()\n",
    "    for column in columns:\n",
    "        df[column] = label_encoder.fit_transform(df[column])\n",
    "    return df\n",
    "\n",
    "def onehot_encode(df, columns):\n",
    "    for column in columns:\n",
    "        dummies = pd.get_dummies(df[column])\n",
    "        df = pd.concat([df, dummies], axis=1)\n",
    "        df.drop(column, axis=1, inplace=True)\n",
    "    return df"
   ]
  },
  {
   "cell_type": "code",
   "execution_count": 8,
   "id": "reserved-liberty",
   "metadata": {},
   "outputs": [],
   "source": [
    "data = binary_encode(data, binary_features)\n",
    "data = onehot_encode(data, nominal_features)"
   ]
  },
  {
   "cell_type": "code",
   "execution_count": 9,
   "id": "strong-internship",
   "metadata": {},
   "outputs": [
    {
     "data": {
      "text/plain": [
       "2"
      ]
     },
     "execution_count": 9,
     "metadata": {},
     "output_type": "execute_result"
    }
   ],
   "source": [
    "(data.dtypes == 'object').sum()"
   ]
  },
  {
   "cell_type": "code",
   "execution_count": null,
   "id": "novel-chassis",
   "metadata": {},
   "outputs": [],
   "source": []
  }
 ],
 "metadata": {
  "kernelspec": {
   "display_name": "Python 3",
   "language": "python",
   "name": "python3"
  },
  "language_info": {
   "codemirror_mode": {
    "name": "ipython",
    "version": 3
   },
   "file_extension": ".py",
   "mimetype": "text/x-python",
   "name": "python",
   "nbconvert_exporter": "python",
   "pygments_lexer": "ipython3",
   "version": "3.7.9"
  }
 },
 "nbformat": 4,
 "nbformat_minor": 5
}

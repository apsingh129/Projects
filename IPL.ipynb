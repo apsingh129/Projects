{
 "cells": [
  {
   "cell_type": "code",
   "execution_count": 1,
   "id": "greatest-vacation",
   "metadata": {},
   "outputs": [],
   "source": [
    "import pandas as pd \n",
    "import numpy as np\n",
    "import pickle "
   ]
  },
  {
   "cell_type": "code",
   "execution_count": 2,
   "id": "standing-acceptance",
   "metadata": {},
   "outputs": [],
   "source": [
    "df=pd.read_csv(\"Ipl.csv\")"
   ]
  },
  {
   "cell_type": "code",
   "execution_count": 3,
   "id": "specific-lincoln",
   "metadata": {},
   "outputs": [
    {
     "data": {
      "text/html": [
       "<div>\n",
       "<style scoped>\n",
       "    .dataframe tbody tr th:only-of-type {\n",
       "        vertical-align: middle;\n",
       "    }\n",
       "\n",
       "    .dataframe tbody tr th {\n",
       "        vertical-align: top;\n",
       "    }\n",
       "\n",
       "    .dataframe thead th {\n",
       "        text-align: right;\n",
       "    }\n",
       "</style>\n",
       "<table border=\"1\" class=\"dataframe\">\n",
       "  <thead>\n",
       "    <tr style=\"text-align: right;\">\n",
       "      <th></th>\n",
       "      <th>mid</th>\n",
       "      <th>date</th>\n",
       "      <th>venue</th>\n",
       "      <th>bat_team</th>\n",
       "      <th>bowl_team</th>\n",
       "      <th>batsman</th>\n",
       "      <th>bowler</th>\n",
       "      <th>runs</th>\n",
       "      <th>wickets</th>\n",
       "      <th>overs</th>\n",
       "      <th>runs_last_5</th>\n",
       "      <th>wickets_last_5</th>\n",
       "      <th>striker</th>\n",
       "      <th>non-striker</th>\n",
       "      <th>total</th>\n",
       "    </tr>\n",
       "  </thead>\n",
       "  <tbody>\n",
       "    <tr>\n",
       "      <th>0</th>\n",
       "      <td>1</td>\n",
       "      <td>2008-04-18</td>\n",
       "      <td>M Chinnaswamy Stadium</td>\n",
       "      <td>Kolkata Knight Riders</td>\n",
       "      <td>Royal Challengers Bangalore</td>\n",
       "      <td>SC Ganguly</td>\n",
       "      <td>P Kumar</td>\n",
       "      <td>1</td>\n",
       "      <td>0</td>\n",
       "      <td>0.1</td>\n",
       "      <td>1</td>\n",
       "      <td>0</td>\n",
       "      <td>0</td>\n",
       "      <td>0</td>\n",
       "      <td>222</td>\n",
       "    </tr>\n",
       "    <tr>\n",
       "      <th>1</th>\n",
       "      <td>1</td>\n",
       "      <td>2008-04-18</td>\n",
       "      <td>M Chinnaswamy Stadium</td>\n",
       "      <td>Kolkata Knight Riders</td>\n",
       "      <td>Royal Challengers Bangalore</td>\n",
       "      <td>BB McCullum</td>\n",
       "      <td>P Kumar</td>\n",
       "      <td>1</td>\n",
       "      <td>0</td>\n",
       "      <td>0.2</td>\n",
       "      <td>1</td>\n",
       "      <td>0</td>\n",
       "      <td>0</td>\n",
       "      <td>0</td>\n",
       "      <td>222</td>\n",
       "    </tr>\n",
       "    <tr>\n",
       "      <th>2</th>\n",
       "      <td>1</td>\n",
       "      <td>2008-04-18</td>\n",
       "      <td>M Chinnaswamy Stadium</td>\n",
       "      <td>Kolkata Knight Riders</td>\n",
       "      <td>Royal Challengers Bangalore</td>\n",
       "      <td>BB McCullum</td>\n",
       "      <td>P Kumar</td>\n",
       "      <td>2</td>\n",
       "      <td>0</td>\n",
       "      <td>0.2</td>\n",
       "      <td>2</td>\n",
       "      <td>0</td>\n",
       "      <td>0</td>\n",
       "      <td>0</td>\n",
       "      <td>222</td>\n",
       "    </tr>\n",
       "    <tr>\n",
       "      <th>3</th>\n",
       "      <td>1</td>\n",
       "      <td>2008-04-18</td>\n",
       "      <td>M Chinnaswamy Stadium</td>\n",
       "      <td>Kolkata Knight Riders</td>\n",
       "      <td>Royal Challengers Bangalore</td>\n",
       "      <td>BB McCullum</td>\n",
       "      <td>P Kumar</td>\n",
       "      <td>2</td>\n",
       "      <td>0</td>\n",
       "      <td>0.3</td>\n",
       "      <td>2</td>\n",
       "      <td>0</td>\n",
       "      <td>0</td>\n",
       "      <td>0</td>\n",
       "      <td>222</td>\n",
       "    </tr>\n",
       "    <tr>\n",
       "      <th>4</th>\n",
       "      <td>1</td>\n",
       "      <td>2008-04-18</td>\n",
       "      <td>M Chinnaswamy Stadium</td>\n",
       "      <td>Kolkata Knight Riders</td>\n",
       "      <td>Royal Challengers Bangalore</td>\n",
       "      <td>BB McCullum</td>\n",
       "      <td>P Kumar</td>\n",
       "      <td>2</td>\n",
       "      <td>0</td>\n",
       "      <td>0.4</td>\n",
       "      <td>2</td>\n",
       "      <td>0</td>\n",
       "      <td>0</td>\n",
       "      <td>0</td>\n",
       "      <td>222</td>\n",
       "    </tr>\n",
       "  </tbody>\n",
       "</table>\n",
       "</div>"
      ],
      "text/plain": [
       "   mid        date                  venue               bat_team  \\\n",
       "0    1  2008-04-18  M Chinnaswamy Stadium  Kolkata Knight Riders   \n",
       "1    1  2008-04-18  M Chinnaswamy Stadium  Kolkata Knight Riders   \n",
       "2    1  2008-04-18  M Chinnaswamy Stadium  Kolkata Knight Riders   \n",
       "3    1  2008-04-18  M Chinnaswamy Stadium  Kolkata Knight Riders   \n",
       "4    1  2008-04-18  M Chinnaswamy Stadium  Kolkata Knight Riders   \n",
       "\n",
       "                     bowl_team      batsman   bowler  runs  wickets  overs  \\\n",
       "0  Royal Challengers Bangalore   SC Ganguly  P Kumar     1        0    0.1   \n",
       "1  Royal Challengers Bangalore  BB McCullum  P Kumar     1        0    0.2   \n",
       "2  Royal Challengers Bangalore  BB McCullum  P Kumar     2        0    0.2   \n",
       "3  Royal Challengers Bangalore  BB McCullum  P Kumar     2        0    0.3   \n",
       "4  Royal Challengers Bangalore  BB McCullum  P Kumar     2        0    0.4   \n",
       "\n",
       "   runs_last_5  wickets_last_5  striker  non-striker  total  \n",
       "0            1               0        0            0    222  \n",
       "1            1               0        0            0    222  \n",
       "2            2               0        0            0    222  \n",
       "3            2               0        0            0    222  \n",
       "4            2               0        0            0    222  "
      ]
     },
     "execution_count": 3,
     "metadata": {},
     "output_type": "execute_result"
    }
   ],
   "source": [
    "df.head()"
   ]
  },
  {
   "cell_type": "code",
   "execution_count": 4,
   "id": "creative-family",
   "metadata": {},
   "outputs": [],
   "source": [
    "column_remove=['mid','venue','batsman','bowler','striker','non-striker']\n",
    "df.drop(labels=column_remove,axis=1,inplace=True)"
   ]
  },
  {
   "cell_type": "code",
   "execution_count": 5,
   "id": "maritime-palestinian",
   "metadata": {},
   "outputs": [
    {
     "data": {
      "text/html": [
       "<div>\n",
       "<style scoped>\n",
       "    .dataframe tbody tr th:only-of-type {\n",
       "        vertical-align: middle;\n",
       "    }\n",
       "\n",
       "    .dataframe tbody tr th {\n",
       "        vertical-align: top;\n",
       "    }\n",
       "\n",
       "    .dataframe thead th {\n",
       "        text-align: right;\n",
       "    }\n",
       "</style>\n",
       "<table border=\"1\" class=\"dataframe\">\n",
       "  <thead>\n",
       "    <tr style=\"text-align: right;\">\n",
       "      <th></th>\n",
       "      <th>date</th>\n",
       "      <th>bat_team</th>\n",
       "      <th>bowl_team</th>\n",
       "      <th>runs</th>\n",
       "      <th>wickets</th>\n",
       "      <th>overs</th>\n",
       "      <th>runs_last_5</th>\n",
       "      <th>wickets_last_5</th>\n",
       "      <th>total</th>\n",
       "    </tr>\n",
       "  </thead>\n",
       "  <tbody>\n",
       "    <tr>\n",
       "      <th>0</th>\n",
       "      <td>2008-04-18</td>\n",
       "      <td>Kolkata Knight Riders</td>\n",
       "      <td>Royal Challengers Bangalore</td>\n",
       "      <td>1</td>\n",
       "      <td>0</td>\n",
       "      <td>0.1</td>\n",
       "      <td>1</td>\n",
       "      <td>0</td>\n",
       "      <td>222</td>\n",
       "    </tr>\n",
       "    <tr>\n",
       "      <th>1</th>\n",
       "      <td>2008-04-18</td>\n",
       "      <td>Kolkata Knight Riders</td>\n",
       "      <td>Royal Challengers Bangalore</td>\n",
       "      <td>1</td>\n",
       "      <td>0</td>\n",
       "      <td>0.2</td>\n",
       "      <td>1</td>\n",
       "      <td>0</td>\n",
       "      <td>222</td>\n",
       "    </tr>\n",
       "    <tr>\n",
       "      <th>2</th>\n",
       "      <td>2008-04-18</td>\n",
       "      <td>Kolkata Knight Riders</td>\n",
       "      <td>Royal Challengers Bangalore</td>\n",
       "      <td>2</td>\n",
       "      <td>0</td>\n",
       "      <td>0.2</td>\n",
       "      <td>2</td>\n",
       "      <td>0</td>\n",
       "      <td>222</td>\n",
       "    </tr>\n",
       "    <tr>\n",
       "      <th>3</th>\n",
       "      <td>2008-04-18</td>\n",
       "      <td>Kolkata Knight Riders</td>\n",
       "      <td>Royal Challengers Bangalore</td>\n",
       "      <td>2</td>\n",
       "      <td>0</td>\n",
       "      <td>0.3</td>\n",
       "      <td>2</td>\n",
       "      <td>0</td>\n",
       "      <td>222</td>\n",
       "    </tr>\n",
       "    <tr>\n",
       "      <th>4</th>\n",
       "      <td>2008-04-18</td>\n",
       "      <td>Kolkata Knight Riders</td>\n",
       "      <td>Royal Challengers Bangalore</td>\n",
       "      <td>2</td>\n",
       "      <td>0</td>\n",
       "      <td>0.4</td>\n",
       "      <td>2</td>\n",
       "      <td>0</td>\n",
       "      <td>222</td>\n",
       "    </tr>\n",
       "  </tbody>\n",
       "</table>\n",
       "</div>"
      ],
      "text/plain": [
       "         date               bat_team                    bowl_team  runs  \\\n",
       "0  2008-04-18  Kolkata Knight Riders  Royal Challengers Bangalore     1   \n",
       "1  2008-04-18  Kolkata Knight Riders  Royal Challengers Bangalore     1   \n",
       "2  2008-04-18  Kolkata Knight Riders  Royal Challengers Bangalore     2   \n",
       "3  2008-04-18  Kolkata Knight Riders  Royal Challengers Bangalore     2   \n",
       "4  2008-04-18  Kolkata Knight Riders  Royal Challengers Bangalore     2   \n",
       "\n",
       "   wickets  overs  runs_last_5  wickets_last_5  total  \n",
       "0        0    0.1            1               0    222  \n",
       "1        0    0.2            1               0    222  \n",
       "2        0    0.2            2               0    222  \n",
       "3        0    0.3            2               0    222  \n",
       "4        0    0.4            2               0    222  "
      ]
     },
     "execution_count": 5,
     "metadata": {},
     "output_type": "execute_result"
    }
   ],
   "source": [
    "df.head()"
   ]
  },
  {
   "cell_type": "code",
   "execution_count": 6,
   "id": "leading-backup",
   "metadata": {},
   "outputs": [
    {
     "data": {
      "text/plain": [
       "array(['Kolkata Knight Riders', 'Chennai Super Kings', 'Rajasthan Royals',\n",
       "       'Mumbai Indians', 'Deccan Chargers', 'Kings XI Punjab',\n",
       "       'Royal Challengers Bangalore', 'Delhi Daredevils',\n",
       "       'Kochi Tuskers Kerala', 'Pune Warriors', 'Sunrisers Hyderabad',\n",
       "       'Rising Pune Supergiants', 'Gujarat Lions',\n",
       "       'Rising Pune Supergiant'], dtype=object)"
      ]
     },
     "execution_count": 6,
     "metadata": {},
     "output_type": "execute_result"
    }
   ],
   "source": [
    "df['bat_team'].unique()"
   ]
  },
  {
   "cell_type": "code",
   "execution_count": 7,
   "id": "average-grill",
   "metadata": {},
   "outputs": [],
   "source": [
    "consistent_team=['kolkata knight Riders','Chennai Super Kings','Rajasthan Royals','Mumbai Indians','Kings XI Punjab','Royal Challengers Bangalore',\n",
    "                 'Delhi Daredevils','Sunrisers Hyderabad']"
   ]
  },
  {
   "cell_type": "code",
   "execution_count": 8,
   "id": "internal-terry",
   "metadata": {},
   "outputs": [
    {
     "data": {
      "text/plain": [
       "['kolkata knight Riders',\n",
       " 'Chennai Super Kings',\n",
       " 'Rajasthan Royals',\n",
       " 'Mumbai Indians',\n",
       " 'Kings XI Punjab',\n",
       " 'Royal Challengers Bangalore',\n",
       " 'Delhi Daredevils',\n",
       " 'Sunrisers Hyderabad']"
      ]
     },
     "execution_count": 8,
     "metadata": {},
     "output_type": "execute_result"
    }
   ],
   "source": [
    "consistent_team"
   ]
  },
  {
   "cell_type": "code",
   "execution_count": 9,
   "id": "linear-narrative",
   "metadata": {},
   "outputs": [],
   "source": [
    "# filtering the team \n",
    "df= df[(df['bat_team'].isin(consistent_team)) & (df['bowl_team'].isin(consistent_team))]"
   ]
  },
  {
   "cell_type": "code",
   "execution_count": 10,
   "id": "institutional-change",
   "metadata": {},
   "outputs": [],
   "source": [
    "# Removing the first 5 overs data in every team \n",
    "df=df[df['overs']>5.0]"
   ]
  },
  {
   "cell_type": "code",
   "execution_count": 11,
   "id": "addressed-barbados",
   "metadata": {},
   "outputs": [
    {
     "data": {
      "text/html": [
       "<div>\n",
       "<style scoped>\n",
       "    .dataframe tbody tr th:only-of-type {\n",
       "        vertical-align: middle;\n",
       "    }\n",
       "\n",
       "    .dataframe tbody tr th {\n",
       "        vertical-align: top;\n",
       "    }\n",
       "\n",
       "    .dataframe thead th {\n",
       "        text-align: right;\n",
       "    }\n",
       "</style>\n",
       "<table border=\"1\" class=\"dataframe\">\n",
       "  <thead>\n",
       "    <tr style=\"text-align: right;\">\n",
       "      <th></th>\n",
       "      <th>date</th>\n",
       "      <th>bat_team</th>\n",
       "      <th>bowl_team</th>\n",
       "      <th>runs</th>\n",
       "      <th>wickets</th>\n",
       "      <th>overs</th>\n",
       "      <th>runs_last_5</th>\n",
       "      <th>wickets_last_5</th>\n",
       "      <th>total</th>\n",
       "    </tr>\n",
       "  </thead>\n",
       "  <tbody>\n",
       "    <tr>\n",
       "      <th>156</th>\n",
       "      <td>2008-04-19</td>\n",
       "      <td>Chennai Super Kings</td>\n",
       "      <td>Kings XI Punjab</td>\n",
       "      <td>46</td>\n",
       "      <td>1</td>\n",
       "      <td>5.1</td>\n",
       "      <td>45</td>\n",
       "      <td>1</td>\n",
       "      <td>240</td>\n",
       "    </tr>\n",
       "    <tr>\n",
       "      <th>157</th>\n",
       "      <td>2008-04-19</td>\n",
       "      <td>Chennai Super Kings</td>\n",
       "      <td>Kings XI Punjab</td>\n",
       "      <td>52</td>\n",
       "      <td>1</td>\n",
       "      <td>5.2</td>\n",
       "      <td>51</td>\n",
       "      <td>1</td>\n",
       "      <td>240</td>\n",
       "    </tr>\n",
       "    <tr>\n",
       "      <th>158</th>\n",
       "      <td>2008-04-19</td>\n",
       "      <td>Chennai Super Kings</td>\n",
       "      <td>Kings XI Punjab</td>\n",
       "      <td>52</td>\n",
       "      <td>1</td>\n",
       "      <td>5.3</td>\n",
       "      <td>47</td>\n",
       "      <td>1</td>\n",
       "      <td>240</td>\n",
       "    </tr>\n",
       "    <tr>\n",
       "      <th>159</th>\n",
       "      <td>2008-04-19</td>\n",
       "      <td>Chennai Super Kings</td>\n",
       "      <td>Kings XI Punjab</td>\n",
       "      <td>53</td>\n",
       "      <td>1</td>\n",
       "      <td>5.4</td>\n",
       "      <td>48</td>\n",
       "      <td>1</td>\n",
       "      <td>240</td>\n",
       "    </tr>\n",
       "    <tr>\n",
       "      <th>160</th>\n",
       "      <td>2008-04-19</td>\n",
       "      <td>Chennai Super Kings</td>\n",
       "      <td>Kings XI Punjab</td>\n",
       "      <td>53</td>\n",
       "      <td>1</td>\n",
       "      <td>5.5</td>\n",
       "      <td>44</td>\n",
       "      <td>1</td>\n",
       "      <td>240</td>\n",
       "    </tr>\n",
       "  </tbody>\n",
       "</table>\n",
       "</div>"
      ],
      "text/plain": [
       "           date             bat_team        bowl_team  runs  wickets  overs  \\\n",
       "156  2008-04-19  Chennai Super Kings  Kings XI Punjab    46        1    5.1   \n",
       "157  2008-04-19  Chennai Super Kings  Kings XI Punjab    52        1    5.2   \n",
       "158  2008-04-19  Chennai Super Kings  Kings XI Punjab    52        1    5.3   \n",
       "159  2008-04-19  Chennai Super Kings  Kings XI Punjab    53        1    5.4   \n",
       "160  2008-04-19  Chennai Super Kings  Kings XI Punjab    53        1    5.5   \n",
       "\n",
       "     runs_last_5  wickets_last_5  total  \n",
       "156           45               1    240  \n",
       "157           51               1    240  \n",
       "158           47               1    240  \n",
       "159           48               1    240  \n",
       "160           44               1    240  "
      ]
     },
     "execution_count": 11,
     "metadata": {},
     "output_type": "execute_result"
    }
   ],
   "source": [
    "df.head()"
   ]
  },
  {
   "cell_type": "code",
   "execution_count": 12,
   "id": "secret-freeware",
   "metadata": {},
   "outputs": [],
   "source": [
    "#converitng the columns 'date' from string into datetime object\n",
    "from datetime import datetime\n",
    "df['date']=df['date'].apply(lambda x:datetime.strptime(x, '%Y-%m-%d'))"
   ]
  },
  {
   "cell_type": "code",
   "execution_count": 13,
   "id": "naval-implement",
   "metadata": {},
   "outputs": [],
   "source": [
    "#Data preprocessing\n",
    "#converting categorical features into onehot encoding\n",
    "encoded_df=pd.get_dummies(data=df,columns=['bat_team','bowl_team'])"
   ]
  },
  {
   "cell_type": "code",
   "execution_count": 14,
   "id": "passive-cambridge",
   "metadata": {},
   "outputs": [
    {
     "data": {
      "text/html": [
       "<div>\n",
       "<style scoped>\n",
       "    .dataframe tbody tr th:only-of-type {\n",
       "        vertical-align: middle;\n",
       "    }\n",
       "\n",
       "    .dataframe tbody tr th {\n",
       "        vertical-align: top;\n",
       "    }\n",
       "\n",
       "    .dataframe thead th {\n",
       "        text-align: right;\n",
       "    }\n",
       "</style>\n",
       "<table border=\"1\" class=\"dataframe\">\n",
       "  <thead>\n",
       "    <tr style=\"text-align: right;\">\n",
       "      <th></th>\n",
       "      <th>date</th>\n",
       "      <th>runs</th>\n",
       "      <th>wickets</th>\n",
       "      <th>overs</th>\n",
       "      <th>runs_last_5</th>\n",
       "      <th>wickets_last_5</th>\n",
       "      <th>total</th>\n",
       "      <th>bat_team_Chennai Super Kings</th>\n",
       "      <th>bat_team_Delhi Daredevils</th>\n",
       "      <th>bat_team_Kings XI Punjab</th>\n",
       "      <th>...</th>\n",
       "      <th>bat_team_Rajasthan Royals</th>\n",
       "      <th>bat_team_Royal Challengers Bangalore</th>\n",
       "      <th>bat_team_Sunrisers Hyderabad</th>\n",
       "      <th>bowl_team_Chennai Super Kings</th>\n",
       "      <th>bowl_team_Delhi Daredevils</th>\n",
       "      <th>bowl_team_Kings XI Punjab</th>\n",
       "      <th>bowl_team_Mumbai Indians</th>\n",
       "      <th>bowl_team_Rajasthan Royals</th>\n",
       "      <th>bowl_team_Royal Challengers Bangalore</th>\n",
       "      <th>bowl_team_Sunrisers Hyderabad</th>\n",
       "    </tr>\n",
       "  </thead>\n",
       "  <tbody>\n",
       "    <tr>\n",
       "      <th>156</th>\n",
       "      <td>2008-04-19</td>\n",
       "      <td>46</td>\n",
       "      <td>1</td>\n",
       "      <td>5.1</td>\n",
       "      <td>45</td>\n",
       "      <td>1</td>\n",
       "      <td>240</td>\n",
       "      <td>1</td>\n",
       "      <td>0</td>\n",
       "      <td>0</td>\n",
       "      <td>...</td>\n",
       "      <td>0</td>\n",
       "      <td>0</td>\n",
       "      <td>0</td>\n",
       "      <td>0</td>\n",
       "      <td>0</td>\n",
       "      <td>1</td>\n",
       "      <td>0</td>\n",
       "      <td>0</td>\n",
       "      <td>0</td>\n",
       "      <td>0</td>\n",
       "    </tr>\n",
       "    <tr>\n",
       "      <th>157</th>\n",
       "      <td>2008-04-19</td>\n",
       "      <td>52</td>\n",
       "      <td>1</td>\n",
       "      <td>5.2</td>\n",
       "      <td>51</td>\n",
       "      <td>1</td>\n",
       "      <td>240</td>\n",
       "      <td>1</td>\n",
       "      <td>0</td>\n",
       "      <td>0</td>\n",
       "      <td>...</td>\n",
       "      <td>0</td>\n",
       "      <td>0</td>\n",
       "      <td>0</td>\n",
       "      <td>0</td>\n",
       "      <td>0</td>\n",
       "      <td>1</td>\n",
       "      <td>0</td>\n",
       "      <td>0</td>\n",
       "      <td>0</td>\n",
       "      <td>0</td>\n",
       "    </tr>\n",
       "    <tr>\n",
       "      <th>158</th>\n",
       "      <td>2008-04-19</td>\n",
       "      <td>52</td>\n",
       "      <td>1</td>\n",
       "      <td>5.3</td>\n",
       "      <td>47</td>\n",
       "      <td>1</td>\n",
       "      <td>240</td>\n",
       "      <td>1</td>\n",
       "      <td>0</td>\n",
       "      <td>0</td>\n",
       "      <td>...</td>\n",
       "      <td>0</td>\n",
       "      <td>0</td>\n",
       "      <td>0</td>\n",
       "      <td>0</td>\n",
       "      <td>0</td>\n",
       "      <td>1</td>\n",
       "      <td>0</td>\n",
       "      <td>0</td>\n",
       "      <td>0</td>\n",
       "      <td>0</td>\n",
       "    </tr>\n",
       "    <tr>\n",
       "      <th>159</th>\n",
       "      <td>2008-04-19</td>\n",
       "      <td>53</td>\n",
       "      <td>1</td>\n",
       "      <td>5.4</td>\n",
       "      <td>48</td>\n",
       "      <td>1</td>\n",
       "      <td>240</td>\n",
       "      <td>1</td>\n",
       "      <td>0</td>\n",
       "      <td>0</td>\n",
       "      <td>...</td>\n",
       "      <td>0</td>\n",
       "      <td>0</td>\n",
       "      <td>0</td>\n",
       "      <td>0</td>\n",
       "      <td>0</td>\n",
       "      <td>1</td>\n",
       "      <td>0</td>\n",
       "      <td>0</td>\n",
       "      <td>0</td>\n",
       "      <td>0</td>\n",
       "    </tr>\n",
       "    <tr>\n",
       "      <th>160</th>\n",
       "      <td>2008-04-19</td>\n",
       "      <td>53</td>\n",
       "      <td>1</td>\n",
       "      <td>5.5</td>\n",
       "      <td>44</td>\n",
       "      <td>1</td>\n",
       "      <td>240</td>\n",
       "      <td>1</td>\n",
       "      <td>0</td>\n",
       "      <td>0</td>\n",
       "      <td>...</td>\n",
       "      <td>0</td>\n",
       "      <td>0</td>\n",
       "      <td>0</td>\n",
       "      <td>0</td>\n",
       "      <td>0</td>\n",
       "      <td>1</td>\n",
       "      <td>0</td>\n",
       "      <td>0</td>\n",
       "      <td>0</td>\n",
       "      <td>0</td>\n",
       "    </tr>\n",
       "  </tbody>\n",
       "</table>\n",
       "<p>5 rows × 21 columns</p>\n",
       "</div>"
      ],
      "text/plain": [
       "          date  runs  wickets  overs  runs_last_5  wickets_last_5  total  \\\n",
       "156 2008-04-19    46        1    5.1           45               1    240   \n",
       "157 2008-04-19    52        1    5.2           51               1    240   \n",
       "158 2008-04-19    52        1    5.3           47               1    240   \n",
       "159 2008-04-19    53        1    5.4           48               1    240   \n",
       "160 2008-04-19    53        1    5.5           44               1    240   \n",
       "\n",
       "     bat_team_Chennai Super Kings  bat_team_Delhi Daredevils  \\\n",
       "156                             1                          0   \n",
       "157                             1                          0   \n",
       "158                             1                          0   \n",
       "159                             1                          0   \n",
       "160                             1                          0   \n",
       "\n",
       "     bat_team_Kings XI Punjab  ...  bat_team_Rajasthan Royals  \\\n",
       "156                         0  ...                          0   \n",
       "157                         0  ...                          0   \n",
       "158                         0  ...                          0   \n",
       "159                         0  ...                          0   \n",
       "160                         0  ...                          0   \n",
       "\n",
       "     bat_team_Royal Challengers Bangalore  bat_team_Sunrisers Hyderabad  \\\n",
       "156                                     0                             0   \n",
       "157                                     0                             0   \n",
       "158                                     0                             0   \n",
       "159                                     0                             0   \n",
       "160                                     0                             0   \n",
       "\n",
       "     bowl_team_Chennai Super Kings  bowl_team_Delhi Daredevils  \\\n",
       "156                              0                           0   \n",
       "157                              0                           0   \n",
       "158                              0                           0   \n",
       "159                              0                           0   \n",
       "160                              0                           0   \n",
       "\n",
       "     bowl_team_Kings XI Punjab  bowl_team_Mumbai Indians  \\\n",
       "156                          1                         0   \n",
       "157                          1                         0   \n",
       "158                          1                         0   \n",
       "159                          1                         0   \n",
       "160                          1                         0   \n",
       "\n",
       "     bowl_team_Rajasthan Royals  bowl_team_Royal Challengers Bangalore  \\\n",
       "156                           0                                      0   \n",
       "157                           0                                      0   \n",
       "158                           0                                      0   \n",
       "159                           0                                      0   \n",
       "160                           0                                      0   \n",
       "\n",
       "     bowl_team_Sunrisers Hyderabad  \n",
       "156                              0  \n",
       "157                              0  \n",
       "158                              0  \n",
       "159                              0  \n",
       "160                              0  \n",
       "\n",
       "[5 rows x 21 columns]"
      ]
     },
     "execution_count": 14,
     "metadata": {},
     "output_type": "execute_result"
    }
   ],
   "source": [
    "encoded_df.head()"
   ]
  },
  {
   "cell_type": "code",
   "execution_count": 15,
   "id": "elect-mobile",
   "metadata": {},
   "outputs": [
    {
     "data": {
      "text/plain": [
       "Index(['date', 'runs', 'wickets', 'overs', 'runs_last_5', 'wickets_last_5',\n",
       "       'total', 'bat_team_Chennai Super Kings', 'bat_team_Delhi Daredevils',\n",
       "       'bat_team_Kings XI Punjab', 'bat_team_Mumbai Indians',\n",
       "       'bat_team_Rajasthan Royals', 'bat_team_Royal Challengers Bangalore',\n",
       "       'bat_team_Sunrisers Hyderabad', 'bowl_team_Chennai Super Kings',\n",
       "       'bowl_team_Delhi Daredevils', 'bowl_team_Kings XI Punjab',\n",
       "       'bowl_team_Mumbai Indians', 'bowl_team_Rajasthan Royals',\n",
       "       'bowl_team_Royal Challengers Bangalore',\n",
       "       'bowl_team_Sunrisers Hyderabad'],\n",
       "      dtype='object')"
      ]
     },
     "execution_count": 15,
     "metadata": {},
     "output_type": "execute_result"
    }
   ],
   "source": [
    "encoded_df.columns"
   ]
  },
  {
   "cell_type": "code",
   "execution_count": 16,
   "id": "becoming-summit",
   "metadata": {},
   "outputs": [],
   "source": [
    "#Rearranging the columns\n",
    "encoded_df=encoded_df[['date','bat_team_Chennai Super Kings', 'bat_team_Delhi Daredevils',\n",
    "       'bat_team_Kings XI Punjab', 'bat_team_Mumbai Indians',\n",
    "       'bat_team_Rajasthan Royals', 'bat_team_Royal Challengers Bangalore',\n",
    "       'bat_team_Sunrisers Hyderabad', 'bowl_team_Chennai Super Kings',\n",
    "       'bowl_team_Delhi Daredevils', 'bowl_team_Kings XI Punjab',\n",
    "       'bowl_team_Mumbai Indians', 'bowl_team_Rajasthan Royals',\n",
    "       'bowl_team_Royal Challengers Bangalore',\n",
    "       'bowl_team_Sunrisers Hyderabad','runs', 'wickets', 'overs', 'runs_last_5', 'wickets_last_5',\n",
    "       'total']]"
   ]
  },
  {
   "cell_type": "code",
   "execution_count": 17,
   "id": "corrected-excitement",
   "metadata": {},
   "outputs": [
    {
     "data": {
      "text/html": [
       "<div>\n",
       "<style scoped>\n",
       "    .dataframe tbody tr th:only-of-type {\n",
       "        vertical-align: middle;\n",
       "    }\n",
       "\n",
       "    .dataframe tbody tr th {\n",
       "        vertical-align: top;\n",
       "    }\n",
       "\n",
       "    .dataframe thead th {\n",
       "        text-align: right;\n",
       "    }\n",
       "</style>\n",
       "<table border=\"1\" class=\"dataframe\">\n",
       "  <thead>\n",
       "    <tr style=\"text-align: right;\">\n",
       "      <th></th>\n",
       "      <th>date</th>\n",
       "      <th>bat_team_Chennai Super Kings</th>\n",
       "      <th>bat_team_Delhi Daredevils</th>\n",
       "      <th>bat_team_Kings XI Punjab</th>\n",
       "      <th>bat_team_Mumbai Indians</th>\n",
       "      <th>bat_team_Rajasthan Royals</th>\n",
       "      <th>bat_team_Royal Challengers Bangalore</th>\n",
       "      <th>bat_team_Sunrisers Hyderabad</th>\n",
       "      <th>bowl_team_Chennai Super Kings</th>\n",
       "      <th>bowl_team_Delhi Daredevils</th>\n",
       "      <th>...</th>\n",
       "      <th>bowl_team_Mumbai Indians</th>\n",
       "      <th>bowl_team_Rajasthan Royals</th>\n",
       "      <th>bowl_team_Royal Challengers Bangalore</th>\n",
       "      <th>bowl_team_Sunrisers Hyderabad</th>\n",
       "      <th>runs</th>\n",
       "      <th>wickets</th>\n",
       "      <th>overs</th>\n",
       "      <th>runs_last_5</th>\n",
       "      <th>wickets_last_5</th>\n",
       "      <th>total</th>\n",
       "    </tr>\n",
       "  </thead>\n",
       "  <tbody>\n",
       "    <tr>\n",
       "      <th>156</th>\n",
       "      <td>2008-04-19</td>\n",
       "      <td>1</td>\n",
       "      <td>0</td>\n",
       "      <td>0</td>\n",
       "      <td>0</td>\n",
       "      <td>0</td>\n",
       "      <td>0</td>\n",
       "      <td>0</td>\n",
       "      <td>0</td>\n",
       "      <td>0</td>\n",
       "      <td>...</td>\n",
       "      <td>0</td>\n",
       "      <td>0</td>\n",
       "      <td>0</td>\n",
       "      <td>0</td>\n",
       "      <td>46</td>\n",
       "      <td>1</td>\n",
       "      <td>5.1</td>\n",
       "      <td>45</td>\n",
       "      <td>1</td>\n",
       "      <td>240</td>\n",
       "    </tr>\n",
       "    <tr>\n",
       "      <th>157</th>\n",
       "      <td>2008-04-19</td>\n",
       "      <td>1</td>\n",
       "      <td>0</td>\n",
       "      <td>0</td>\n",
       "      <td>0</td>\n",
       "      <td>0</td>\n",
       "      <td>0</td>\n",
       "      <td>0</td>\n",
       "      <td>0</td>\n",
       "      <td>0</td>\n",
       "      <td>...</td>\n",
       "      <td>0</td>\n",
       "      <td>0</td>\n",
       "      <td>0</td>\n",
       "      <td>0</td>\n",
       "      <td>52</td>\n",
       "      <td>1</td>\n",
       "      <td>5.2</td>\n",
       "      <td>51</td>\n",
       "      <td>1</td>\n",
       "      <td>240</td>\n",
       "    </tr>\n",
       "    <tr>\n",
       "      <th>158</th>\n",
       "      <td>2008-04-19</td>\n",
       "      <td>1</td>\n",
       "      <td>0</td>\n",
       "      <td>0</td>\n",
       "      <td>0</td>\n",
       "      <td>0</td>\n",
       "      <td>0</td>\n",
       "      <td>0</td>\n",
       "      <td>0</td>\n",
       "      <td>0</td>\n",
       "      <td>...</td>\n",
       "      <td>0</td>\n",
       "      <td>0</td>\n",
       "      <td>0</td>\n",
       "      <td>0</td>\n",
       "      <td>52</td>\n",
       "      <td>1</td>\n",
       "      <td>5.3</td>\n",
       "      <td>47</td>\n",
       "      <td>1</td>\n",
       "      <td>240</td>\n",
       "    </tr>\n",
       "    <tr>\n",
       "      <th>159</th>\n",
       "      <td>2008-04-19</td>\n",
       "      <td>1</td>\n",
       "      <td>0</td>\n",
       "      <td>0</td>\n",
       "      <td>0</td>\n",
       "      <td>0</td>\n",
       "      <td>0</td>\n",
       "      <td>0</td>\n",
       "      <td>0</td>\n",
       "      <td>0</td>\n",
       "      <td>...</td>\n",
       "      <td>0</td>\n",
       "      <td>0</td>\n",
       "      <td>0</td>\n",
       "      <td>0</td>\n",
       "      <td>53</td>\n",
       "      <td>1</td>\n",
       "      <td>5.4</td>\n",
       "      <td>48</td>\n",
       "      <td>1</td>\n",
       "      <td>240</td>\n",
       "    </tr>\n",
       "    <tr>\n",
       "      <th>160</th>\n",
       "      <td>2008-04-19</td>\n",
       "      <td>1</td>\n",
       "      <td>0</td>\n",
       "      <td>0</td>\n",
       "      <td>0</td>\n",
       "      <td>0</td>\n",
       "      <td>0</td>\n",
       "      <td>0</td>\n",
       "      <td>0</td>\n",
       "      <td>0</td>\n",
       "      <td>...</td>\n",
       "      <td>0</td>\n",
       "      <td>0</td>\n",
       "      <td>0</td>\n",
       "      <td>0</td>\n",
       "      <td>53</td>\n",
       "      <td>1</td>\n",
       "      <td>5.5</td>\n",
       "      <td>44</td>\n",
       "      <td>1</td>\n",
       "      <td>240</td>\n",
       "    </tr>\n",
       "  </tbody>\n",
       "</table>\n",
       "<p>5 rows × 21 columns</p>\n",
       "</div>"
      ],
      "text/plain": [
       "          date  bat_team_Chennai Super Kings  bat_team_Delhi Daredevils  \\\n",
       "156 2008-04-19                             1                          0   \n",
       "157 2008-04-19                             1                          0   \n",
       "158 2008-04-19                             1                          0   \n",
       "159 2008-04-19                             1                          0   \n",
       "160 2008-04-19                             1                          0   \n",
       "\n",
       "     bat_team_Kings XI Punjab  bat_team_Mumbai Indians  \\\n",
       "156                         0                        0   \n",
       "157                         0                        0   \n",
       "158                         0                        0   \n",
       "159                         0                        0   \n",
       "160                         0                        0   \n",
       "\n",
       "     bat_team_Rajasthan Royals  bat_team_Royal Challengers Bangalore  \\\n",
       "156                          0                                     0   \n",
       "157                          0                                     0   \n",
       "158                          0                                     0   \n",
       "159                          0                                     0   \n",
       "160                          0                                     0   \n",
       "\n",
       "     bat_team_Sunrisers Hyderabad  bowl_team_Chennai Super Kings  \\\n",
       "156                             0                              0   \n",
       "157                             0                              0   \n",
       "158                             0                              0   \n",
       "159                             0                              0   \n",
       "160                             0                              0   \n",
       "\n",
       "     bowl_team_Delhi Daredevils  ...  bowl_team_Mumbai Indians  \\\n",
       "156                           0  ...                         0   \n",
       "157                           0  ...                         0   \n",
       "158                           0  ...                         0   \n",
       "159                           0  ...                         0   \n",
       "160                           0  ...                         0   \n",
       "\n",
       "     bowl_team_Rajasthan Royals  bowl_team_Royal Challengers Bangalore  \\\n",
       "156                           0                                      0   \n",
       "157                           0                                      0   \n",
       "158                           0                                      0   \n",
       "159                           0                                      0   \n",
       "160                           0                                      0   \n",
       "\n",
       "     bowl_team_Sunrisers Hyderabad  runs  wickets  overs  runs_last_5  \\\n",
       "156                              0    46        1    5.1           45   \n",
       "157                              0    52        1    5.2           51   \n",
       "158                              0    52        1    5.3           47   \n",
       "159                              0    53        1    5.4           48   \n",
       "160                              0    53        1    5.5           44   \n",
       "\n",
       "     wickets_last_5  total  \n",
       "156               1    240  \n",
       "157               1    240  \n",
       "158               1    240  \n",
       "159               1    240  \n",
       "160               1    240  \n",
       "\n",
       "[5 rows x 21 columns]"
      ]
     },
     "execution_count": 17,
     "metadata": {},
     "output_type": "execute_result"
    }
   ],
   "source": [
    "encoded_df.head()"
   ]
  },
  {
   "cell_type": "code",
   "execution_count": 18,
   "id": "grave-socket",
   "metadata": {},
   "outputs": [],
   "source": [
    "#splitting the data into train and test set\n",
    "X_train=encoded_df.drop(labels='total',axis=1)[encoded_df['date'].dt.year<=2016]\n",
    "X_test=encoded_df.drop(labels='total',axis=1)[encoded_df['date'].dt.year>=2017]"
   ]
  },
  {
   "cell_type": "code",
   "execution_count": 19,
   "id": "abandoned-somewhere",
   "metadata": {},
   "outputs": [],
   "source": [
    "y_train=encoded_df[encoded_df['date'].dt.year<=2016]['total'].values\n",
    "y_test=encoded_df[encoded_df['date'].dt.year>=2017]['total'].values"
   ]
  },
  {
   "cell_type": "code",
   "execution_count": 20,
   "id": "complimentary-radar",
   "metadata": {},
   "outputs": [],
   "source": [
    "#removing the date columns\n",
    "X_train.drop(labels='date', axis=True,inplace=True)\n",
    "X_test.drop(labels='date', axis=True,inplace=True)"
   ]
  },
  {
   "cell_type": "code",
   "execution_count": 21,
   "id": "engaging-meter",
   "metadata": {},
   "outputs": [
    {
     "data": {
      "text/plain": [
       "LinearRegression()"
      ]
     },
     "execution_count": 21,
     "metadata": {},
     "output_type": "execute_result"
    }
   ],
   "source": [
    "# Model  Building\n",
    "#linear Regression model \n",
    "from sklearn.linear_model import LinearRegression\n",
    "regressor=LinearRegression()\n",
    "regressor.fit(X_train,y_train)"
   ]
  },
  {
   "cell_type": "code",
   "execution_count": 22,
   "id": "pediatric-somerset",
   "metadata": {},
   "outputs": [],
   "source": [
    "#creating a pickle file for the classifier\n",
    "filename='first-innings-score-lr-model.pkl'\n",
    "pickle.dump(regressor,open(filename,'wb'))"
   ]
  },
  {
   "cell_type": "markdown",
   "id": "amino-tournament",
   "metadata": {},
   "source": [
    "# Ridge Regression"
   ]
  },
  {
   "cell_type": "code",
   "execution_count": 23,
   "id": "regional-letters",
   "metadata": {},
   "outputs": [],
   "source": [
    "#Ridge Regression\n",
    "from sklearn.linear_model import Ridge\n",
    "from sklearn.model_selection import GridSearchCV"
   ]
  },
  {
   "cell_type": "code",
   "execution_count": 24,
   "id": "blessed-mouth",
   "metadata": {},
   "outputs": [
    {
     "name": "stderr",
     "output_type": "stream",
     "text": [
      "c:\\python39\\lib\\site-packages\\sklearn\\linear_model\\_ridge.py:147: LinAlgWarning: Ill-conditioned matrix (rcond=1.95687e-18): result may not be accurate.\n",
      "  return linalg.solve(A, Xy, sym_pos=True,\n",
      "c:\\python39\\lib\\site-packages\\sklearn\\linear_model\\_ridge.py:147: LinAlgWarning: Ill-conditioned matrix (rcond=1.98141e-18): result may not be accurate.\n",
      "  return linalg.solve(A, Xy, sym_pos=True,\n",
      "c:\\python39\\lib\\site-packages\\sklearn\\linear_model\\_ridge.py:147: LinAlgWarning: Ill-conditioned matrix (rcond=1.94112e-18): result may not be accurate.\n",
      "  return linalg.solve(A, Xy, sym_pos=True,\n",
      "c:\\python39\\lib\\site-packages\\sklearn\\linear_model\\_ridge.py:147: LinAlgWarning: Ill-conditioned matrix (rcond=1.96438e-18): result may not be accurate.\n",
      "  return linalg.solve(A, Xy, sym_pos=True,\n",
      "c:\\python39\\lib\\site-packages\\sklearn\\linear_model\\_ridge.py:147: LinAlgWarning: Ill-conditioned matrix (rcond=2.04922e-18): result may not be accurate.\n",
      "  return linalg.solve(A, Xy, sym_pos=True,\n"
     ]
    },
    {
     "data": {
      "text/plain": [
       "GridSearchCV(cv=5, estimator=Ridge(),\n",
       "             param_grid={'alpha': [1e-15, 1e-10, 1e-08, 0.001, 0.01, 1, 5, 10,\n",
       "                                   20, 30, 35, 40]},\n",
       "             scoring='neg_mean_squared_error')"
      ]
     },
     "execution_count": 24,
     "metadata": {},
     "output_type": "execute_result"
    }
   ],
   "source": [
    "ridge=Ridge()\n",
    "parameters={'alpha':[1e-15,1e-10,1e-8,1e-3,1e-2,1,5,10,20,30,35,40]}\n",
    "ridge_regressor=GridSearchCV(ridge,parameters,scoring='neg_mean_squared_error',cv=5)\n",
    "ridge_regressor.fit(X_train,y_train)"
   ]
  },
  {
   "cell_type": "code",
   "execution_count": 25,
   "id": "celtic-tract",
   "metadata": {},
   "outputs": [
    {
     "name": "stdout",
     "output_type": "stream",
     "text": [
      "{'alpha': 40}\n",
      "-346.7595350510962\n"
     ]
    }
   ],
   "source": [
    "print(ridge_regressor.best_params_)\n",
    "print(ridge_regressor.best_score_)"
   ]
  },
  {
   "cell_type": "code",
   "execution_count": 26,
   "id": "addressed-damage",
   "metadata": {},
   "outputs": [],
   "source": [
    "prediction=ridge_regressor.predict(X_test)"
   ]
  },
  {
   "cell_type": "code",
   "execution_count": 27,
   "id": "reasonable-nashville",
   "metadata": {},
   "outputs": [
    {
     "name": "stderr",
     "output_type": "stream",
     "text": [
      "c:\\python39\\lib\\site-packages\\seaborn\\distributions.py:2557: FutureWarning: `distplot` is a deprecated function and will be removed in a future version. Please adapt your code to use either `displot` (a figure-level function with similar flexibility) or `histplot` (an axes-level function for histograms).\n",
      "  warnings.warn(msg, FutureWarning)\n"
     ]
    },
    {
     "data": {
      "text/plain": [
       "<AxesSubplot:ylabel='Density'>"
      ]
     },
     "execution_count": 27,
     "metadata": {},
     "output_type": "execute_result"
    },
    {
     "data": {
      "image/png": "[encoded data removed]",
      "text/plain": [
       "<Figure size 432x288 with 1 Axes>"
      ]
     },
     "metadata": {
      "needs_background": "light"
     },
     "output_type": "display_data"
    }
   ],
   "source": [
    "import seaborn as sns\n",
    "sns.distplot(y_test-prediction)"
   ]
  },
  {
   "cell_type": "code",
   "execution_count": 28,
   "id": "simple-latex",
   "metadata": {},
   "outputs": [
    {
     "name": "stdout",
     "output_type": "stream",
     "text": [
      "MAE: 13.134565552060357\n",
      "MSE: 289.87132276056604\n",
      "RMSE: 17.02560785289518\n"
     ]
    }
   ],
   "source": [
    "from sklearn import metrics\n",
    "import numpy as np\n",
    "print('MAE:', metrics.mean_absolute_error(y_test,prediction))\n",
    "print('MSE:', metrics.mean_squared_error(y_test,prediction))\n",
    "print('RMSE:',np.sqrt(metrics.mean_squared_error(y_test,prediction)))\n"
   ]
  },
  {
   "cell_type": "markdown",
   "id": "distinguished-billy",
   "metadata": {},
   "source": [
    "# Lasso Regression"
   ]
  },
  {
   "cell_type": "code",
   "execution_count": 29,
   "id": "assured-basket",
   "metadata": {},
   "outputs": [],
   "source": [
    "from sklearn.linear_model import Lasso\n",
    "from sklearn.model_selection import GridSearchCV"
   ]
  },
  {
   "cell_type": "code",
   "execution_count": 31,
   "id": "limiting-batch",
   "metadata": {},
   "outputs": [
    {
     "name": "stderr",
     "output_type": "stream",
     "text": [
      "c:\\python39\\lib\\site-packages\\sklearn\\linear_model\\_coordinate_descent.py:530: ConvergenceWarning: Objective did not converge. You might want to increase the number of iterations. Duality gap: 2994301.873399249, tolerance: 2097.6691339833483\n",
      "  model = cd_fast.enet_coordinate_descent(\n",
      "c:\\python39\\lib\\site-packages\\sklearn\\linear_model\\_coordinate_descent.py:530: ConvergenceWarning: Objective did not converge. You might want to increase the number of iterations. Duality gap: 3424346.9251311645, tolerance: 2022.094631531083\n",
      "  model = cd_fast.enet_coordinate_descent(\n",
      "c:\\python39\\lib\\site-packages\\sklearn\\linear_model\\_coordinate_descent.py:530: ConvergenceWarning: Objective did not converge. You might want to increase the number of iterations. Duality gap: 3479291.4327557874, tolerance: 2105.362259361144\n",
      "  model = cd_fast.enet_coordinate_descent(\n",
      "c:\\python39\\lib\\site-packages\\sklearn\\linear_model\\_coordinate_descent.py:530: ConvergenceWarning: Objective did not converge. You might want to increase the number of iterations. Duality gap: 3277521.3986658026, tolerance: 2186.024317775869\n",
      "  model = cd_fast.enet_coordinate_descent(\n",
      "c:\\python39\\lib\\site-packages\\sklearn\\linear_model\\_coordinate_descent.py:530: ConvergenceWarning: Objective did not converge. You might want to increase the number of iterations. Duality gap: 3562608.734116684, tolerance: 2113.9456072026423\n",
      "  model = cd_fast.enet_coordinate_descent(\n",
      "c:\\python39\\lib\\site-packages\\sklearn\\linear_model\\_coordinate_descent.py:530: ConvergenceWarning: Objective did not converge. You might want to increase the number of iterations. Duality gap: 197514.34767260402, tolerance: 2097.6691339833483\n",
      "  model = cd_fast.enet_coordinate_descent(\n",
      "c:\\python39\\lib\\site-packages\\sklearn\\linear_model\\_coordinate_descent.py:530: ConvergenceWarning: Objective did not converge. You might want to increase the number of iterations. Duality gap: 382082.11994591914, tolerance: 2022.094631531083\n",
      "  model = cd_fast.enet_coordinate_descent(\n",
      "c:\\python39\\lib\\site-packages\\sklearn\\linear_model\\_coordinate_descent.py:530: ConvergenceWarning: Objective did not converge. You might want to increase the number of iterations. Duality gap: 105246.53082343843, tolerance: 2105.362259361144\n",
      "  model = cd_fast.enet_coordinate_descent(\n",
      "c:\\python39\\lib\\site-packages\\sklearn\\linear_model\\_coordinate_descent.py:530: ConvergenceWarning: Objective did not converge. You might want to increase the number of iterations. Duality gap: 170171.7361530112, tolerance: 2186.024317775869\n",
      "  model = cd_fast.enet_coordinate_descent(\n",
      "c:\\python39\\lib\\site-packages\\sklearn\\linear_model\\_coordinate_descent.py:530: ConvergenceWarning: Objective did not converge. You might want to increase the number of iterations. Duality gap: 534129.3344675805, tolerance: 2113.9456072026423\n",
      "  model = cd_fast.enet_coordinate_descent(\n",
      "c:\\python39\\lib\\site-packages\\sklearn\\linear_model\\_coordinate_descent.py:530: ConvergenceWarning: Objective did not converge. You might want to increase the number of iterations. Duality gap: 197514.917596207, tolerance: 2097.6691339833483\n",
      "  model = cd_fast.enet_coordinate_descent(\n",
      "c:\\python39\\lib\\site-packages\\sklearn\\linear_model\\_coordinate_descent.py:530: ConvergenceWarning: Objective did not converge. You might want to increase the number of iterations. Duality gap: 382080.5303307194, tolerance: 2022.094631531083\n",
      "  model = cd_fast.enet_coordinate_descent(\n",
      "c:\\python39\\lib\\site-packages\\sklearn\\linear_model\\_coordinate_descent.py:530: ConvergenceWarning: Objective did not converge. You might want to increase the number of iterations. Duality gap: 105247.57307798509, tolerance: 2105.362259361144\n",
      "  model = cd_fast.enet_coordinate_descent(\n",
      "c:\\python39\\lib\\site-packages\\sklearn\\linear_model\\_coordinate_descent.py:530: ConvergenceWarning: Objective did not converge. You might want to increase the number of iterations. Duality gap: 170172.25945681334, tolerance: 2186.024317775869\n",
      "  model = cd_fast.enet_coordinate_descent(\n",
      "c:\\python39\\lib\\site-packages\\sklearn\\linear_model\\_coordinate_descent.py:530: ConvergenceWarning: Objective did not converge. You might want to increase the number of iterations. Duality gap: 534131.1032515559, tolerance: 2113.9456072026423\n",
      "  model = cd_fast.enet_coordinate_descent(\n"
     ]
    },
    {
     "name": "stdout",
     "output_type": "stream",
     "text": [
      "{'alpha': 5}\n",
      "-344.01101423874377\n"
     ]
    }
   ],
   "source": [
    "lasso=Lasso()\n",
    "parameters={'alpha':[1e-15,1e-10,1e-8,1e-3,1e-2,5,30,40,50,60]}\n",
    "lasso_regressor=GridSearchCV(lasso,parameters,scoring='neg_mean_squared_error',cv=5)\n",
    "\n",
    "lasso_regressor.fit(X_train,y_train)\n",
    "print(lasso_regressor.best_params_)\n",
    "print(lasso_regressor.best_score_)"
   ]
  },
  {
   "cell_type": "code",
   "execution_count": 34,
   "id": "designing-analyst",
   "metadata": {},
   "outputs": [
    {
     "name": "stderr",
     "output_type": "stream",
     "text": [
      "c:\\python39\\lib\\site-packages\\seaborn\\distributions.py:2557: FutureWarning: `distplot` is a deprecated function and will be removed in a future version. Please adapt your code to use either `displot` (a figure-level function with similar flexibility) or `histplot` (an axes-level function for histograms).\n",
      "  warnings.warn(msg, FutureWarning)\n"
     ]
    },
    {
     "data": {
      "text/plain": [
       "<AxesSubplot:ylabel='Density'>"
      ]
     },
     "execution_count": 34,
     "metadata": {},
     "output_type": "execute_result"
    },
    {
     "data": {
      "image/png": "[encoded data removed]",
      "text/plain": [
       "<Figure size 432x288 with 1 Axes>"
      ]
     },
     "metadata": {
      "needs_background": "light"
     },
     "output_type": "display_data"
    }
   ],
   "source": [
    "prediction=lasso_regressor.predict(X_test)\n",
    "sns.distplot(y_test-prediction)"
   ]
  },
  {
   "cell_type": "code",
   "execution_count": 35,
   "id": "substantial-newfoundland",
   "metadata": {},
   "outputs": [
    {
     "name": "stdout",
     "output_type": "stream",
     "text": [
      "MAE: 13.752072754894753\n",
      "MSE: 330.74815724870894\n",
      "RMSE: 18.18648281688103\n"
     ]
    }
   ],
   "source": [
    "from sklearn import metrics\n",
    "import numpy as np\n",
    "print('MAE:', metrics.mean_absolute_error(y_test,prediction))\n",
    "print('MSE:', metrics.mean_squared_error(y_test,prediction))\n",
    "print('RMSE:',np.sqrt(metrics.mean_squared_error(y_test,prediction)))"
   ]
  },
  {
   "cell_type": "code",
   "execution_count": null,
   "id": "continued-halloween",
   "metadata": {},
   "outputs": [],
   "source": []
  }
 ],
 "metadata": {
  "kernelspec": {
   "display_name": "Python 3",
   "language": "python",
   "name": "python3"
  },
  "language_info": {
   "codemirror_mode": {
    "name": "ipython",
    "version": 3
   },
   "file_extension": ".py",
   "mimetype": "text/x-python",
   "name": "python",
   "nbconvert_exporter": "python",
   "pygments_lexer": "ipython3",
   "version": "3.7.9"
  }
 },
 "nbformat": 4,
 "nbformat_minor": 5
}
